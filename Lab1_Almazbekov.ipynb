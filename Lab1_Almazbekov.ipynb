{
 "cells": [
  {
   "cell_type": "code",
   "execution_count": 16,
   "id": "cb2420a2-dc58-41c8-b85a-2c3173f45d4b",
   "metadata": {},
   "outputs": [
    {
     "name": "stdout",
     "output_type": "stream",
     "text": [
      "Hello world!\n"
     ]
    }
   ],
   "source": [
    "# Первый коммент\n",
    "print(\"Hello world!\")"
   ]
  },
  {
   "cell_type": "code",
   "execution_count": 17,
   "id": "bb9041f5-859c-4ce0-a3fd-46e5e91c52ca",
   "metadata": {},
   "outputs": [
    {
     "data": {
      "text/plain": [
       "444"
      ]
     },
     "execution_count": 17,
     "metadata": {},
     "output_type": "execute_result"
    }
   ],
   "source": [
    "# Не испольняемы данные \n",
    "123 + 321"
   ]
  },
  {
   "cell_type": "code",
   "execution_count": 18,
   "id": "a51b5ab7-c5b7-46fb-9df7-13de2eb5a824",
   "metadata": {},
   "outputs": [],
   "source": [
    "a = 11\n",
    "b = 13"
   ]
  },
  {
   "cell_type": "code",
   "execution_count": 24,
   "id": "42cec455-7fea-4365-ae2f-4af824963b09",
   "metadata": {},
   "outputs": [],
   "source": [
    "c = a + b\n",
    "l = [1,2,3,4]\n",
    "d = {\"a\": 1, \"b\": 2}"
   ]
  },
  {
   "cell_type": "code",
   "execution_count": 25,
   "id": "a504dc91-11dc-4ef4-8ced-12ecb3a863d8",
   "metadata": {},
   "outputs": [
    {
     "name": "stdout",
     "output_type": "stream",
     "text": [
      "24\n",
      "<class 'int'>\n",
      "<class 'list'>\n",
      "<class 'dict'>\n"
     ]
    }
   ],
   "source": [
    "print(c)\n",
    "print(type(c))\n",
    "print(type(l))\n",
    "print(type(d))"
   ]
  },
  {
   "cell_type": "code",
   "execution_count": 27,
   "id": "c56f984e-df1f-4262-bac9-b21adec4c0de",
   "metadata": {},
   "outputs": [
    {
     "name": "stdout",
     "output_type": "stream",
     "text": [
      "5.0\n",
      "1024.0\n"
     ]
    }
   ],
   "source": [
    "import math\n",
    "print(math.sqrt(25))\n",
    "print(math.pow(2,10))"
   ]
  },
  {
   "cell_type": "code",
   "execution_count": 30,
   "id": "ce552aaf-b71a-4b65-9506-2fa168d1b04d",
   "metadata": {},
   "outputs": [
    {
     "name": "stdout",
     "output_type": "stream",
     "text": [
      "Положительное число\n"
     ]
    }
   ],
   "source": [
    "if c > 0:\n",
    "    print(\"Положительное число\")\n",
    "elif c == 0:\n",
    "    print(\"Ноль\")\n",
    "else:\n",
    "    print(\"Отрицательное число\")"
   ]
  },
  {
   "cell_type": "code",
   "execution_count": 31,
   "id": "e7155a99-f254-47a4-8f9e-db49a93cf408",
   "metadata": {},
   "outputs": [
    {
     "name": "stdout",
     "output_type": "stream",
     "text": [
      "1\n",
      "7\n",
      "13\n",
      "19\n",
      "25\n",
      "31\n",
      "37\n",
      "43\n",
      "49\n",
      "55\n",
      "61\n",
      "67\n",
      "73\n",
      "79\n",
      "85\n",
      "91\n",
      "97\n"
     ]
    }
   ],
   "source": [
    "for i in range(1,100,6):\n",
    "    print(i)"
   ]
  },
  {
   "cell_type": "code",
   "execution_count": 32,
   "id": "66f4118a-d1e2-4b27-9dd0-8f337e323888",
   "metadata": {},
   "outputs": [
    {
     "name": "stdout",
     "output_type": "stream",
     "text": [
      "1\n",
      "2\n",
      "4\n",
      "8\n",
      "16\n",
      "32\n",
      "64\n"
     ]
    }
   ],
   "source": [
    "# степени двойки до 100\n",
    "a = 1\n",
    "while (a < 100):\n",
    "    print(a)\n",
    "    a *= 2"
   ]
  },
  {
   "cell_type": "code",
   "execution_count": 33,
   "id": "a0eead5c-9cdc-4bb6-86d4-6ab09865c691",
   "metadata": {},
   "outputs": [
    {
     "name": "stdout",
     "output_type": "stream",
     "text": [
      "6\n"
     ]
    }
   ],
   "source": [
    "def sum3(a,b,c):\n",
    "    return a+b+c\n",
    "print(sum3(1,2,3))"
   ]
  },
  {
   "cell_type": "code",
   "execution_count": 34,
   "id": "58e3d120-493c-4d56-8d5a-521046614eb8",
   "metadata": {},
   "outputs": [
    {
     "name": "stdout",
     "output_type": "stream",
     "text": [
      "25\n"
     ]
    }
   ],
   "source": [
    "gyp = lambda x,y: x**2 + y ** 2\n",
    "print(gyp(3,4))"
   ]
  },
  {
   "cell_type": "code",
   "execution_count": 39,
   "id": "543629e6-8475-4d11-b91f-94e3df9e1658",
   "metadata": {},
   "outputs": [
    {
     "name": "stdout",
     "output_type": "stream",
     "text": [
      "\n",
      "ЋЎ¬Ґ­ Ї ЄҐв ¬Ё б inai.kg [178.217.172.70] б 32 Ў ©в ¬Ё ¤ ­­ле:\n",
      "ЋвўҐв ®в 178.217.172.70: зЁб«® Ў ©в=32 ўаҐ¬п=18¬б TTL=55\n",
      "ЋвўҐв ®в 178.217.172.70: зЁб«® Ў ©в=32 ўаҐ¬п=33¬б TTL=55\n",
      "ЋвўҐв ®в 178.217.172.70: зЁб«® Ў ©в=32 ўаҐ¬п=19¬б TTL=55\n",
      "ЋвўҐв ®в 178.217.172.70: зЁб«® Ў ©в=32 ўаҐ¬п=25¬б TTL=55\n",
      "\n",
      "‘в вЁбвЁЄ  Ping ¤«п 178.217.172.70:\n",
      "    Џ ЄҐв®ў: ®вЇа ў«Ґ­® = 4, Ї®«гзҐ­® = 4, Ї®вҐап­® = 0\n",
      "    (0% Ї®вҐам)\n",
      "ЏаЁЎ«Ё§ЁвҐ«м­®Ґ ўаҐ¬п ЇаЁҐ¬ -ЇҐаҐ¤ зЁ ў ¬б:\n",
      "    ЊЁ­Ё¬ «м­®Ґ = 18¬бҐЄ, Њ ЄбЁ¬ «м­®Ґ = 33 ¬бҐЄ, ‘аҐ¤­ҐҐ = 23 ¬бҐЄ\n"
     ]
    }
   ],
   "source": [
    "encoding=\"utf-8\"\n",
    "!ping inai.kg"
   ]
  },
  {
   "cell_type": "code",
   "execution_count": 45,
   "id": "d3882440-177d-4ab8-ae5a-7276e2f6cbd8",
   "metadata": {},
   "outputs": [
    {
     "name": "stdout",
     "output_type": "stream",
     "text": [
      "0.0020491587390298145\n"
     ]
    }
   ],
   "source": [
    "def fun(x,t):\n",
    "    a = 9*math.pi*t+10*math.cos(x)\n",
    "    b = math.sqrt(t)-math.sin(x)\n",
    "    c = math.e**(-2*t)\n",
    "    print(a/b*c)\n",
    "fun(5,5)"
   ]
  },
  {
   "cell_type": "code",
   "execution_count": 46,
   "id": "98fee1c7-0125-4ebe-a612-0e7e2df769a2",
   "metadata": {},
   "outputs": [
    {
     "name": "stdout",
     "output_type": "stream",
     "text": [
      "1\n",
      "6\n"
     ]
    }
   ],
   "source": [
    "def ranging(a,b,c):\n",
    "    if 1 <= a and a <= 10:\n",
    "        print(a)\n",
    "    if 1 <= b and b <= 10:\n",
    "        print(b)\n",
    "    if 1 <= c and c <= 10:\n",
    "        print(c)\n",
    "\n",
    "ranging(1,6,60)"
   ]
  },
  {
   "cell_type": "code",
   "execution_count": 48,
   "id": "f4a1aa44-e7c3-41ca-879c-4c90a93ced89",
   "metadata": {},
   "outputs": [
    {
     "name": "stdout",
     "output_type": "stream",
     "text": [
      "0 3 10 10 1 1 8 1 10 2 0 2 6 4 8 0 9 10 7 0 "
     ]
    }
   ],
   "source": [
    "import random\n",
    "for i in range(20):\n",
    "    print(random.randint(0,10), end=\" \")"
   ]
  },
  {
   "cell_type": "code",
   "execution_count": 49,
   "id": "cfbf9d0a-1b69-4479-af98-8191a1891a9f",
   "metadata": {},
   "outputs": [
    {
     "name": "stdout",
     "output_type": "stream",
     "text": [
      "7.015035162782177\n"
     ]
    }
   ],
   "source": [
    "a = 5\n",
    "sum = 0\n",
    "for i in range(20):\n",
    "    sum += i/a\n",
    "    a += 2\n",
    "print(sum)"
   ]
  },
  {
   "cell_type": "code",
   "execution_count": null,
   "id": "14facef4-5464-4700-8625-efd2f32121dc",
   "metadata": {},
   "outputs": [],
   "source": []
  }
 ],
 "metadata": {
  "kernelspec": {
   "display_name": "Python 3 (ipykernel)",
   "language": "python",
   "name": "python3"
  },
  "language_info": {
   "codemirror_mode": {
    "name": "ipython",
    "version": 3
   },
   "file_extension": ".py",
   "mimetype": "text/x-python",
   "name": "python",
   "nbconvert_exporter": "python",
   "pygments_lexer": "ipython3",
   "version": "3.12.5"
  }
 },
 "nbformat": 4,
 "nbformat_minor": 5
}
